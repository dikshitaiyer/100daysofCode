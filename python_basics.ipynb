{
  "nbformat": 4,
  "nbformat_minor": 0,
  "metadata": {
    "colab": {
      "name": "python-basics.ipynb",
      "provenance": [],
      "collapsed_sections": [],
      "authorship_tag": "ABX9TyN+ymQk6j0hED5g6c6kcu6p",
      "include_colab_link": true
    },
    "kernelspec": {
      "name": "python3",
      "display_name": "Python 3"
    },
    "language_info": {
      "name": "python"
    }
  },
  "cells": [
    {
      "cell_type": "markdown",
      "metadata": {
        "id": "view-in-github",
        "colab_type": "text"
      },
      "source": [
        "<a href=\"https://colab.research.google.com/github/dikshitaiyer/100daysofCode/blob/main/python_basics.ipynb\" target=\"_parent\"><img src=\"https://colab.research.google.com/assets/colab-badge.svg\" alt=\"Open In Colab\"/></a>"
      ]
    },
    {
      "cell_type": "code",
      "metadata": {
        "id": "Pa_SLVoEDXoy"
      },
      "source": [
        "name = 'iphone'"
      ],
      "execution_count": null,
      "outputs": []
    },
    {
      "cell_type": "code",
      "metadata": {
        "colab": {
          "base_uri": "https://localhost:8080/"
        },
        "id": "aFQ3yq0yF22X",
        "outputId": "89b372ed-e660-4b9e-f88a-ff8239c35a20"
      },
      "source": [
        "type(name)"
      ],
      "execution_count": null,
      "outputs": [
        {
          "output_type": "execute_result",
          "data": {
            "text/plain": [
              "str"
            ]
          },
          "metadata": {
            "tags": []
          },
          "execution_count": 2
        }
      ]
    },
    {
      "cell_type": "code",
      "metadata": {
        "colab": {
          "base_uri": "https://localhost:8080/"
        },
        "id": "8NzWI8c0F6Zf",
        "outputId": "e5243c3b-9910-4488-8898-af0475ee35ba"
      },
      "source": [
        "print(name)\n",
        "screen_size = 4.2\n",
        "type(screen_size)"
      ],
      "execution_count": null,
      "outputs": [
        {
          "output_type": "stream",
          "text": [
            "iphone\n"
          ],
          "name": "stdout"
        },
        {
          "output_type": "execute_result",
          "data": {
            "text/plain": [
              "float"
            ]
          },
          "metadata": {
            "tags": []
          },
          "execution_count": 4
        }
      ]
    },
    {
      "cell_type": "code",
      "metadata": {
        "colab": {
          "base_uri": "https://localhost:8080/"
        },
        "id": "_u3aO_WFGqIY",
        "outputId": "900098fa-af4a-4fcd-c29a-d9b0df1229d8"
      },
      "source": [
        "i=0\n",
        "while(i < 5):\n",
        "  print(i,i**2)\n",
        "  i += 1\n",
        "\n"
      ],
      "execution_count": null,
      "outputs": [
        {
          "output_type": "stream",
          "text": [
            "0 0\n",
            "1 1\n",
            "2 4\n",
            "3 9\n",
            "4 16\n"
          ],
          "name": "stdout"
        }
      ]
    },
    {
      "cell_type": "code",
      "metadata": {
        "colab": {
          "base_uri": "https://localhost:8080/"
        },
        "id": "7LNulijlHOXF",
        "outputId": "094a26dd-855e-4cd0-a90c-ddf715e49c85"
      },
      "source": [
        "import time\n",
        "tic = time.time()\n",
        "print(tic)"
      ],
      "execution_count": null,
      "outputs": [
        {
          "output_type": "stream",
          "text": [
            "1626594458.1046855\n"
          ],
          "name": "stdout"
        }
      ]
    },
    {
      "cell_type": "markdown",
      "metadata": {
        "id": "y_dsCKmvjrBd"
      },
      "source": [
        "# **Python Packages**\n"
      ]
    },
    {
      "cell_type": "code",
      "metadata": {
        "id": "Gmsd_I-7j0Ec"
      },
      "source": [
        "import math"
      ],
      "execution_count": null,
      "outputs": []
    },
    {
      "cell_type": "code",
      "metadata": {
        "id": "68kyCNwAj8G-"
      },
      "source": [
        "a = math.sqrt(10)"
      ],
      "execution_count": null,
      "outputs": []
    },
    {
      "cell_type": "code",
      "metadata": {
        "colab": {
          "base_uri": "https://localhost:8080/"
        },
        "id": "WbV8Bz31j_SR",
        "outputId": "f31ec5fb-b57d-429e-8c92-7ca2d68e8ac7"
      },
      "source": [
        "print(a)"
      ],
      "execution_count": null,
      "outputs": [
        {
          "output_type": "stream",
          "text": [
            "3.1622776601683795\n"
          ],
          "name": "stdout"
        }
      ]
    },
    {
      "cell_type": "code",
      "metadata": {
        "colab": {
          "base_uri": "https://localhost:8080/"
        },
        "id": "ZNF17vGwkEH3",
        "outputId": "2a0b8b95-b258-4f8e-87d0-dd9d49ef1e90"
      },
      "source": [
        "x = 100\n",
        "y = 1\n",
        "for i in range(1,x):\n",
        "  y *= i\n",
        "\n",
        "print(y)\n"
      ],
      "execution_count": null,
      "outputs": [
        {
          "output_type": "stream",
          "text": [
            "933262154439441526816992388562667004907159682643816214685929638952175999932299156089414639761565182862536979208272237582511852109168640000000000000000000000\n"
          ],
          "name": "stdout"
        }
      ]
    },
    {
      "cell_type": "code",
      "metadata": {
        "colab": {
          "base_uri": "https://localhost:8080/"
        },
        "id": "UFt75oYNkwFA",
        "outputId": "86295699-0634-4787-f4e0-9cdbad2b3b62"
      },
      "source": [
        "print(math.factorial(100))"
      ],
      "execution_count": null,
      "outputs": [
        {
          "output_type": "stream",
          "text": [
            "93326215443944152681699238856266700490715968264381621468592963895217599993229915608941463976156518286253697920827223758251185210916864000000000000000000000000\n"
          ],
          "name": "stdout"
        }
      ]
    },
    {
      "cell_type": "code",
      "metadata": {
        "colab": {
          "base_uri": "https://localhost:8080/"
        },
        "id": "jmwrJxk0lNPM",
        "outputId": "b1e547dd-70a4-4dfc-c5f4-617c0c1c80b3"
      },
      "source": [
        "val = list(range(1,100))\n",
        "tic  =  time.time()\n",
        "for x in val:\n",
        "  y=1\n",
        "  for i in range(1,x):\n",
        "    y *= i\n",
        "toc = time.time()\n",
        "print(toc-tic)\n",
        "\n",
        "tic  =  time.time()\n",
        "for x in val:\n",
        "  y = math.factorial(x)\n",
        "toc = time.time()\n",
        "print(toc-tic)"
      ],
      "execution_count": null,
      "outputs": [
        {
          "output_type": "stream",
          "text": [
            "0.002023458480834961\n",
            "0.00013518333435058594\n"
          ],
          "name": "stdout"
        }
      ]
    },
    {
      "cell_type": "code",
      "metadata": {
        "id": "YpyicbygleED"
      },
      "source": [
        "! echo 'def hello():'"
      ],
      "execution_count": null,
      "outputs": []
    },
    {
      "cell_type": "markdown",
      "source": [
        "***File Handling***"
      ],
      "metadata": {
        "id": "DjygKu_5aBu3"
      }
    },
    {
      "cell_type": "code",
      "source": [
        "file = open('mobile_cleaned-1549119762886.csv','r')"
      ],
      "metadata": {
        "id": "hsy8hEWCZ_rC"
      },
      "execution_count": 6,
      "outputs": []
    },
    {
      "cell_type": "code",
      "source": [
        "s = file.readline()"
      ],
      "metadata": {
        "id": "kpLyZs91bxTJ"
      },
      "execution_count": 7,
      "outputs": []
    },
    {
      "cell_type": "code",
      "source": [
        "print(s.split(','))"
      ],
      "metadata": {
        "colab": {
          "base_uri": "https://localhost:8080/"
        },
        "id": "niIP1cm1b5OK",
        "outputId": "b22d0e3a-6c6b-420c-bfe1-a26f92923cfd"
      },
      "execution_count": 8,
      "outputs": [
        {
          "output_type": "stream",
          "name": "stdout",
          "text": [
            "['sim_type', 'aperture', 'gpu_rank', 'weight', 'stand_by_time', 'processor_frequency', 'thickness', 'flash_type', 'front_camera_resolution', 'auto_focus', 'screen_size', 'frames_per_second', 'FM', 'no_of_reviews_in_gsmarena_in_week', 'os', 'phone_height', 'screen_protection', 'sim_size', 'price', 'talk_time', 'video_resolution', 'display_resolution', 'removable_battery', 'display_type', 'primary_camera_resolution', 'battery_type', 'ram_memory', 'internal_memory', 'brand_rank', 'no_of_cores', 'micro_sd_slot', 'screen_pixel_density', 'water_proof_rate', 'phone_width', 'expandable_memory', 'version', 'usb_type', 'battery_capacity', 'processor_rank', 'is_liked\\n']\n"
          ]
        }
      ]
    },
    {
      "cell_type": "code",
      "source": [
        "file.close()"
      ],
      "metadata": {
        "id": "tHywO_qRcJD3"
      },
      "execution_count": null,
      "outputs": []
    },
    {
      "cell_type": "code",
      "source": [
        "with open('mobile_cleaned-1549119762886.csv','r') as file :\n",
        "  print(file.readline())"
      ],
      "metadata": {
        "colab": {
          "base_uri": "https://localhost:8080/"
        },
        "id": "kv5t7KaScMVE",
        "outputId": "0934b7f0-bbc8-4916-90b6-295a4c31a1f3"
      },
      "execution_count": null,
      "outputs": [
        {
          "output_type": "stream",
          "name": "stdout",
          "text": [
            "sim_type,aperture,gpu_rank,weight,stand_by_time,processor_frequency,thickness,flash_type,front_camera_resolution,auto_focus,screen_size,frames_per_second,FM,no_of_reviews_in_gsmarena_in_week,os,phone_height,screen_protection,sim_size,price,talk_time,video_resolution,display_resolution,removable_battery,display_type,primary_camera_resolution,battery_type,ram_memory,internal_memory,brand_rank,no_of_cores,micro_sd_slot,screen_pixel_density,water_proof_rate,phone_width,expandable_memory,version,usb_type,battery_capacity,processor_rank,is_liked\n",
            "\n"
          ]
        }
      ]
    },
    {
      "cell_type": "markdown",
      "source": [
        "# Python Classes\n"
      ],
      "metadata": {
        "id": "wA4p4bBtlkDM"
      }
    },
    {
      "cell_type": "code",
      "source": [
        "class MobilePhones:\n",
        "  pass"
      ],
      "metadata": {
        "id": "NwRJDOTyltPz"
      },
      "execution_count": 1,
      "outputs": []
    },
    {
      "cell_type": "code",
      "source": [
        "new_phone = MobilePhones()"
      ],
      "metadata": {
        "id": "xprW-wUUmDw1"
      },
      "execution_count": 3,
      "outputs": []
    },
    {
      "cell_type": "code",
      "source": [
        "type(new_phone)"
      ],
      "metadata": {
        "colab": {
          "base_uri": "https://localhost:8080/"
        },
        "id": "TlUlH_FrmIeN",
        "outputId": "2ce97722-b2c2-470d-cdcf-c5fee29e5a77"
      },
      "execution_count": 4,
      "outputs": [
        {
          "output_type": "execute_result",
          "data": {
            "text/plain": [
              "__main__.MobilePhones"
            ]
          },
          "metadata": {},
          "execution_count": 4
        }
      ]
    }
  ]
}